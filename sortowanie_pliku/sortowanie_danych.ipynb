{
 "cells": [
  {
   "cell_type": "code",
   "execution_count": 24,
   "metadata": {},
   "outputs": [],
   "source": [
    "import numpy as np\n",
    "import pandas as pd"
   ]
  },
  {
   "cell_type": "code",
   "execution_count": 25,
   "metadata": {},
   "outputs": [],
   "source": [
    "data2015 = pd.read_excel('matura2015_rok2022.xlsx', header = 2, usecols = [6, 16, 18, 19])\n",
    "data2023 = pd.read_excel('matura2023_rok2023.xlsx', header = 2, usecols = [6, 27, 29, 30])\n",
    "\n",
    "data2015.to_csv('matura2015.csv', index=False)\n",
    "data2023.to_csv('matura2023.csv', index=False)"
   ]
  },
  {
   "cell_type": "code",
   "execution_count": 26,
   "metadata": {},
   "outputs": [],
   "source": [
    "d2015 = pd.read_csv('matura2015.csv')\n",
    "d2023 = pd.read_csv('matura2023.csv')\n",
    "\n",
    "# Znalezienie szkół, które występują w obu zbiorach danych i mają pełne dane w obu plikach\n",
    "common_schools = set(d2015.iloc[:, 0]).intersection(set(d2023.iloc[:, 0]))\n",
    "\n",
    "for school in common_schools.copy():\n",
    "    if school in d2015.iloc[:, 0].values:\n",
    "        if d2015[d2015.iloc[:, 0] == school].isnull().values.any():\n",
    "            common_schools.discard(school)\n",
    "    if school in d2023.iloc[:, 0].values:\n",
    "        if d2023[d2023.iloc[:, 0] == school].isnull().values.any():\n",
    "            common_schools.discard(school)\n",
    "\n",
    "# Usunięcie szkół z obu plików, które mają niepełne dane\n",
    "polski2015 = d2015[d2015.iloc[:, 0].isin(common_schools)]\n",
    "polski2023 = d2023[d2023.iloc[:, 0].isin(common_schools)]\n",
    "\n",
    "# Zapisanie danych do plików\n",
    "polski2015.to_csv('polski2015.csv', index=False)\n",
    "polski2023.to_csv('polski2023.csv', index=False)"
   ]
  }
 ],
 "metadata": {
  "kernelspec": {
   "display_name": "Python 3",
   "language": "python",
   "name": "python3"
  },
  "language_info": {
   "codemirror_mode": {
    "name": "ipython",
    "version": 3
   },
   "file_extension": ".py",
   "mimetype": "text/x-python",
   "name": "python",
   "nbconvert_exporter": "python",
   "pygments_lexer": "ipython3",
   "version": "3.10.8"
  }
 },
 "nbformat": 4,
 "nbformat_minor": 2
}
